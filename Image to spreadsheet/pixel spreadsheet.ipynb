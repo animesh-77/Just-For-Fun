{
 "cells": [
  {
   "cell_type": "code",
   "execution_count": 2,
   "id": "1d1cd2c0",
   "metadata": {},
   "outputs": [],
   "source": [
    "import numpy as np\n",
    "import pandas as pd\n",
    "import math\n",
    "import matplotlib.pyplot as plt\n",
    "from skimage import io\n",
    "from PIL import Image\n",
    "\n",
    "img = Image.open('beach.jpg')\n",
    "photo = np.array(img)\n",
    "\n",
    "rows= photo.shape[0]\n",
    "\n",
    "max_row_excel= 399//3\n",
    "step= math.ceil(rows/ max_row_excel) #133 rows correspond to 399 rows in final excel file\n",
    "\n",
    "photo1=photo[::step,::step,:]\n",
    "\n",
    "\n",
    "rows= photo1.shape[0]\n",
    "cols= photo1.shape[1]\n",
    "\n",
    "excel_sheet= np.zeros((rows*3,cols))# three rows for every one row\n",
    "\n",
    "for r in range(rows):\n",
    "\n",
    "    for c in range(cols):\n",
    "            \n",
    "        red= photo1[r][c][0]\n",
    "        green= photo1[r][c][1]\n",
    "        blue= photo1[r][c][2]\n",
    "        \n",
    "        \n",
    "            \n",
    "        excel_sheet[r*3][c]= red\n",
    "        excel_sheet[(r*3)+1][c]= green\n",
    "        excel_sheet[(r*3)+2][c]= blue\n",
    "\n",
    "excel_sheet= excel_sheet.astype(int)\n",
    "\n",
    "df= pd.DataFrame(excel_sheet, index=None, columns=None)\n",
    "\n",
    "df.to_excel(\"photo-.xlsm\", header= None, index= None)\n"
   ]
  },
  {
   "cell_type": "code",
   "execution_count": null,
   "id": "02765e90",
   "metadata": {},
   "outputs": [],
   "source": []
  }
 ],
 "metadata": {
  "kernelspec": {
   "display_name": "Python 3",
   "language": "python",
   "name": "python3"
  },
  "language_info": {
   "codemirror_mode": {
    "name": "ipython",
    "version": 3
   },
   "file_extension": ".py",
   "mimetype": "text/x-python",
   "name": "python",
   "nbconvert_exporter": "python",
   "pygments_lexer": "ipython3",
   "version": "3.8.8"
  }
 },
 "nbformat": 4,
 "nbformat_minor": 5
}
